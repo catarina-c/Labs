{
 "cells": [
  {
   "cell_type": "markdown",
   "metadata": {},
   "source": [
    "# lab 9\n",
    "\n",
    "Suppose you have the follwoing payoff matriz of a prisoner's dilemna\n",
    "$$\\begin{bmatrix} (2,2) & (0,3) \\\\ (3,0) & (1,1)  \\end{bmatrix}$$\n",
    "\n",
    "Player 0 may play 0 or 1 and player 1 may play 0 or 1. 0 is cooperate (our peace), 1 is not cooperate (war).\n"
   ]
  },
  {
   "cell_type": "markdown",
   "metadata": {},
   "source": [
    "**1.** Create a function that receives results from each one of the player and gives as results a tuple with the results."
   ]
  },
  {
   "cell_type": "code",
   "execution_count": 1,
   "metadata": {},
   "outputs": [],
   "source": [
    "payoffList=[[(2,2),(0,3)],[(3,0),(1,1)]]\n",
    "\n",
    "def payoff(ply1,ply2):\n",
    "    first=payoffList[ply1][ply2]\n",
    "    return first\n"
   ]
  },
  {
   "cell_type": "code",
   "execution_count": 2,
   "metadata": {},
   "outputs": [
    {
     "data": {
      "text/plain": [
       "(2, 2)"
      ]
     },
     "execution_count": 2,
     "metadata": {},
     "output_type": "execute_result"
    }
   ],
   "source": [
    "payoff(0,0)"
   ]
  },
  {
   "cell_type": "code",
   "execution_count": 3,
   "metadata": {},
   "outputs": [
    {
     "data": {
      "text/plain": [
       "(1, 1)"
      ]
     },
     "execution_count": 3,
     "metadata": {},
     "output_type": "execute_result"
    }
   ],
   "source": [
    "payoff(1,1)"
   ]
  },
  {
   "cell_type": "markdown",
   "metadata": {},
   "source": [
    "**2.** Player 0 is the user that chooses between 0 a 1. Player 1 is a computer. Result is randomly generated.  "
   ]
  },
  {
   "cell_type": "code",
   "execution_count": 6,
   "metadata": {},
   "outputs": [
    {
     "data": {
      "text/plain": [
       "(0, 3)"
      ]
     },
     "execution_count": 6,
     "metadata": {},
     "output_type": "execute_result"
    }
   ],
   "source": [
    "import random\n",
    "def payoffComputer(ply1):\n",
    "    Computer=random.randint(0,1)\n",
    "    result = payoffList[ply1][Computer]\n",
    "    return result\n",
    "payoffComputer(0)"
   ]
  },
  {
   "cell_type": "markdown",
   "metadata": {},
   "source": [
    "**3.** Calculate the accumulated value resulting from an iterative game (10 iterations)"
   ]
  },
  {
   "cell_type": "code",
   "execution_count": 8,
   "metadata": {},
   "outputs": [
    {
     "name": "stdout",
     "output_type": "stream",
     "text": [
      "0 or 1?0\n",
      "(3, 0)\n",
      "3\n",
      "0 or 1?1\n",
      "(1, 1)\n",
      "4\n",
      "0 or 1?0\n",
      "(2, 2)\n",
      "6\n",
      "0 or 1?1\n",
      "(0, 3)\n",
      "6\n",
      "0 or 1?1\n",
      "(0, 3)\n",
      "6\n",
      "0 or 1?1\n",
      "(0, 3)\n",
      "6\n",
      "0 or 1?0\n",
      "(3, 0)\n",
      "9\n",
      "0 or 1?0\n",
      "(2, 2)\n",
      "11\n",
      "0 or 1?1\n",
      "(0, 3)\n",
      "11\n",
      "0 or 1?0\n",
      "(3, 0)\n",
      "14\n"
     ]
    }
   ],
   "source": [
    "import random\n",
    "total=0\n",
    "for i in range (1,11):\n",
    "    Computer=random.randint(0,1)\n",
    "    user=int(input(\"0 or 1?\"))\n",
    "    print(payoff(Computer,user))\n",
    "    result=payoff(Computer,user)\n",
    "    total= total+result[0]\n",
    "    print(total)"
   ]
  }
 ],
 "metadata": {
  "kernelspec": {
   "display_name": "Python 3",
   "language": "python",
   "name": "python3"
  },
  "language_info": {
   "codemirror_mode": {
    "name": "ipython",
    "version": 3
   },
   "file_extension": ".py",
   "mimetype": "text/x-python",
   "name": "python",
   "nbconvert_exporter": "python",
   "pygments_lexer": "ipython3",
   "version": "3.7.4"
  }
 },
 "nbformat": 4,
 "nbformat_minor": 2
}
