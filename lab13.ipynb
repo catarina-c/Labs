{
 "cells": [
  {
   "cell_type": "code",
   "execution_count": 13,
   "metadata": {},
   "outputs": [],
   "source": [
    "#import libraries\n",
    "import numpy as np\n",
    "import pandas as pd\n",
    "from sklearn.linear_model import LinearRegression\n",
    "import networkx as nx\n",
    "import matplotlib.pyplot as plt"
   ]
  },
  {
   "cell_type": "code",
   "execution_count": 14,
   "metadata": {},
   "outputs": [],
   "source": [
    "#import dataset\n",
    "df=pd.read_csv(\"pokemon.csv\")\n",
    "\n",
    "#alternativamente\n",
    "#df=pd.read_csv(\"pokemon.csv\", encoding=\"ANSI\")"
   ]
  },
  {
   "cell_type": "code",
   "execution_count": 15,
   "metadata": {},
   "outputs": [
    {
     "data": {
      "text/html": [
       "<div>\n",
       "<style scoped>\n",
       "    .dataframe tbody tr th:only-of-type {\n",
       "        vertical-align: middle;\n",
       "    }\n",
       "\n",
       "    .dataframe tbody tr th {\n",
       "        vertical-align: top;\n",
       "    }\n",
       "\n",
       "    .dataframe thead th {\n",
       "        text-align: right;\n",
       "    }\n",
       "</style>\n",
       "<table border=\"1\" class=\"dataframe\">\n",
       "  <thead>\n",
       "    <tr style=\"text-align: right;\">\n",
       "      <th></th>\n",
       "      <th>#</th>\n",
       "      <th>NAME_ENGLISH</th>\n",
       "      <th>NAME_GERMAN</th>\n",
       "      <th>NAME_FRENCH</th>\n",
       "      <th>NAME_JAPAN</th>\n",
       "      <th>NAME_KOREAN</th>\n",
       "      <th>TYP1</th>\n",
       "      <th>TYP2</th>\n",
       "      <th>GENERATION</th>\n",
       "      <th>CANDY</th>\n",
       "      <th>BUDDY_DISTANCE</th>\n",
       "      <th>MAX_HP</th>\n",
       "      <th>MAX_ATT</th>\n",
       "      <th>MAX_DEF</th>\n",
       "      <th>MAX_CP</th>\n",
       "      <th>CATCH_RATE</th>\n",
       "      <th>ESCAPE_RATE</th>\n",
       "      <th>SHINY</th>\n",
       "      <th>ICON_PATH</th>\n",
       "      <th>SPRITE_PATH</th>\n",
       "    </tr>\n",
       "  </thead>\n",
       "  <tbody>\n",
       "    <tr>\n",
       "      <th>0</th>\n",
       "      <td>1</td>\n",
       "      <td>Bulbasaur</td>\n",
       "      <td>Bisasam</td>\n",
       "      <td>Bulbizarre</td>\n",
       "      <td>Fushigidane</td>\n",
       "      <td>Isanghaessi</td>\n",
       "      <td>Grass</td>\n",
       "      <td>Poison</td>\n",
       "      <td>1.0</td>\n",
       "      <td>25.0</td>\n",
       "      <td>3.0</td>\n",
       "      <td>128.0</td>\n",
       "      <td>118.0</td>\n",
       "      <td>111.0</td>\n",
       "      <td>1115.0</td>\n",
       "      <td>20,00 %</td>\n",
       "      <td>10,00 %</td>\n",
       "      <td>Yes</td>\n",
       "      <td>./icon/001.png</td>\n",
       "      <td>./sprites/001.png</td>\n",
       "    </tr>\n",
       "    <tr>\n",
       "      <th>1</th>\n",
       "      <td>2</td>\n",
       "      <td>Ivysaur</td>\n",
       "      <td>Bisaknosp</td>\n",
       "      <td>Herbizarre</td>\n",
       "      <td>Fushigisou</td>\n",
       "      <td>Isanghaepul</td>\n",
       "      <td>Grass</td>\n",
       "      <td>Poison</td>\n",
       "      <td>1.0</td>\n",
       "      <td>100.0</td>\n",
       "      <td>3.0</td>\n",
       "      <td>155.0</td>\n",
       "      <td>151.0</td>\n",
       "      <td>143.0</td>\n",
       "      <td>1699.0</td>\n",
       "      <td>10,00 %</td>\n",
       "      <td>7,00 %</td>\n",
       "      <td>Yes</td>\n",
       "      <td>./icon/002.png</td>\n",
       "      <td>./sprites/002.png</td>\n",
       "    </tr>\n",
       "    <tr>\n",
       "      <th>2</th>\n",
       "      <td>3</td>\n",
       "      <td>Venusaur</td>\n",
       "      <td>Bisaflor</td>\n",
       "      <td>Florizarre</td>\n",
       "      <td>Fushigibana</td>\n",
       "      <td>Isanghaekkot</td>\n",
       "      <td>Grass</td>\n",
       "      <td>Poison</td>\n",
       "      <td>1.0</td>\n",
       "      <td>NaN</td>\n",
       "      <td>3.0</td>\n",
       "      <td>190.0</td>\n",
       "      <td>198.0</td>\n",
       "      <td>189.0</td>\n",
       "      <td>2720.0</td>\n",
       "      <td>5,00 %</td>\n",
       "      <td>5,00 %</td>\n",
       "      <td>Yes</td>\n",
       "      <td>./icon/003.png</td>\n",
       "      <td>./sprites/003.png</td>\n",
       "    </tr>\n",
       "    <tr>\n",
       "      <th>3</th>\n",
       "      <td>4</td>\n",
       "      <td>Charmander</td>\n",
       "      <td>Glumanda</td>\n",
       "      <td>Salamèche</td>\n",
       "      <td>Hitokage</td>\n",
       "      <td>Pairi</td>\n",
       "      <td>Fire</td>\n",
       "      <td>NaN</td>\n",
       "      <td>1.0</td>\n",
       "      <td>25.0</td>\n",
       "      <td>3.0</td>\n",
       "      <td>118.0</td>\n",
       "      <td>116.0</td>\n",
       "      <td>93.0</td>\n",
       "      <td>980.0</td>\n",
       "      <td>20,00 %</td>\n",
       "      <td>10,00 %</td>\n",
       "      <td>Yes</td>\n",
       "      <td>./icon/004.png</td>\n",
       "      <td>./sprites/004.png</td>\n",
       "    </tr>\n",
       "    <tr>\n",
       "      <th>4</th>\n",
       "      <td>5</td>\n",
       "      <td>Charmeleon</td>\n",
       "      <td>Glutexo</td>\n",
       "      <td>Reptincel</td>\n",
       "      <td>Lizardo</td>\n",
       "      <td>Rijadeu</td>\n",
       "      <td>Fire</td>\n",
       "      <td>NaN</td>\n",
       "      <td>1.0</td>\n",
       "      <td>100.0</td>\n",
       "      <td>3.0</td>\n",
       "      <td>151.0</td>\n",
       "      <td>158.0</td>\n",
       "      <td>126.0</td>\n",
       "      <td>1653.0</td>\n",
       "      <td>10,00 %</td>\n",
       "      <td>7,00 %</td>\n",
       "      <td>Yes</td>\n",
       "      <td>./icon/005.png</td>\n",
       "      <td>./sprites/005.png</td>\n",
       "    </tr>\n",
       "  </tbody>\n",
       "</table>\n",
       "</div>"
      ],
      "text/plain": [
       "   # NAME_ENGLISH NAME_GERMAN NAME_FRENCH   NAME_JAPAN   NAME_KOREAN   TYP1  \\\n",
       "0  1    Bulbasaur     Bisasam  Bulbizarre  Fushigidane   Isanghaessi  Grass   \n",
       "1  2      Ivysaur   Bisaknosp  Herbizarre   Fushigisou   Isanghaepul  Grass   \n",
       "2  3     Venusaur    Bisaflor  Florizarre  Fushigibana  Isanghaekkot  Grass   \n",
       "3  4   Charmander    Glumanda   Salamèche     Hitokage         Pairi   Fire   \n",
       "4  5   Charmeleon     Glutexo   Reptincel      Lizardo       Rijadeu   Fire   \n",
       "\n",
       "     TYP2  GENERATION  CANDY  BUDDY_DISTANCE  MAX_HP  MAX_ATT  MAX_DEF  \\\n",
       "0  Poison         1.0   25.0             3.0   128.0    118.0    111.0   \n",
       "1  Poison         1.0  100.0             3.0   155.0    151.0    143.0   \n",
       "2  Poison         1.0    NaN             3.0   190.0    198.0    189.0   \n",
       "3     NaN         1.0   25.0             3.0   118.0    116.0     93.0   \n",
       "4     NaN         1.0  100.0             3.0   151.0    158.0    126.0   \n",
       "\n",
       "   MAX_CP CATCH_RATE ESCAPE_RATE SHINY       ICON_PATH        SPRITE_PATH  \n",
       "0  1115.0    20,00 %     10,00 %   Yes  ./icon/001.png  ./sprites/001.png  \n",
       "1  1699.0    10,00 %      7,00 %   Yes  ./icon/002.png  ./sprites/002.png  \n",
       "2  2720.0     5,00 %      5,00 %   Yes  ./icon/003.png  ./sprites/003.png  \n",
       "3   980.0    20,00 %     10,00 %   Yes  ./icon/004.png  ./sprites/004.png  \n",
       "4  1653.0    10,00 %      7,00 %   Yes  ./icon/005.png  ./sprites/005.png  "
      ]
     },
     "execution_count": 15,
     "metadata": {},
     "output_type": "execute_result"
    }
   ],
   "source": [
    "#see dataset\n",
    "df.head()"
   ]
  },
  {
   "cell_type": "code",
   "execution_count": 16,
   "metadata": {},
   "outputs": [
    {
     "data": {
      "text/plain": [
       "#                  object\n",
       "NAME_ENGLISH       object\n",
       "NAME_GERMAN        object\n",
       "NAME_FRENCH        object\n",
       "NAME_JAPAN         object\n",
       "NAME_KOREAN        object\n",
       "TYP1               object\n",
       "TYP2               object\n",
       "GENERATION        float64\n",
       "CANDY             float64\n",
       "BUDDY_DISTANCE    float64\n",
       "MAX_HP            float64\n",
       "MAX_ATT           float64\n",
       "MAX_DEF           float64\n",
       "MAX_CP            float64\n",
       "CATCH_RATE         object\n",
       "ESCAPE_RATE        object\n",
       "SHINY              object\n",
       "ICON_PATH          object\n",
       "SPRITE_PATH        object\n",
       "dtype: object"
      ]
     },
     "execution_count": 16,
     "metadata": {},
     "output_type": "execute_result"
    }
   ],
   "source": [
    "#find out the data types\n",
    "df.dtypes"
   ]
  },
  {
   "cell_type": "code",
   "execution_count": 21,
   "metadata": {},
   "outputs": [
    {
     "data": {
      "text/plain": [
       "array(['Grass', 'Fire', 'Water', 'Bug', 'Normal', 'Dark', 'Poison',\n",
       "       'Electric', 'Ground', 'Ice', 'Fairy', 'Fighting', 'Psychic',\n",
       "       'Rock', 'Ghost', 'Dragon', 'Steel', 'Flying'], dtype=object)"
      ]
     },
     "execution_count": 21,
     "metadata": {},
     "output_type": "execute_result"
    }
   ],
   "source": [
    "#identifying the elements of TYP1\n",
    "df['TYP1'].unique()"
   ]
  },
  {
   "cell_type": "code",
   "execution_count": 22,
   "metadata": {},
   "outputs": [
    {
     "data": {
      "text/plain": [
       "array(['Poison', nan, 'Flying', 'Normal', 'Psychic', 'Steel', 'Ground',\n",
       "       'Fairy', 'Grass', 'Fighting', 'Electric', 'Ice', 'Dark', 'Dragon',\n",
       "       'Ghost', 'Rock', 'Water', 'Fire', 'Bug'], dtype=object)"
      ]
     },
     "execution_count": 22,
     "metadata": {},
     "output_type": "execute_result"
    }
   ],
   "source": [
    "#identifying the elements of TYP2\n",
    "df['TYP2'].unique()"
   ]
  },
  {
   "cell_type": "code",
   "execution_count": 23,
   "metadata": {},
   "outputs": [
    {
     "data": {
      "text/plain": [
       "18"
      ]
     },
     "execution_count": 23,
     "metadata": {},
     "output_type": "execute_result"
    }
   ],
   "source": [
    "#Total number of elements in TYP1\n",
    "w=df['TYP1'].unique()\n",
    "len(w)"
   ]
  },
  {
   "cell_type": "code",
   "execution_count": 24,
   "metadata": {},
   "outputs": [
    {
     "data": {
      "text/plain": [
       "19"
      ]
     },
     "execution_count": 24,
     "metadata": {},
     "output_type": "execute_result"
    }
   ],
   "source": [
    "#Total number of elements in TYP1\n",
    "u=df['TYP2'].unique()\n",
    "len(u)"
   ]
  },
  {
   "cell_type": "code",
   "execution_count": 19,
   "metadata": {},
   "outputs": [
    {
     "data": {
      "text/html": [
       "<div>\n",
       "<style scoped>\n",
       "    .dataframe tbody tr th:only-of-type {\n",
       "        vertical-align: middle;\n",
       "    }\n",
       "\n",
       "    .dataframe tbody tr th {\n",
       "        vertical-align: top;\n",
       "    }\n",
       "\n",
       "    .dataframe thead th {\n",
       "        text-align: right;\n",
       "    }\n",
       "</style>\n",
       "<table border=\"1\" class=\"dataframe\">\n",
       "  <thead>\n",
       "    <tr style=\"text-align: right;\">\n",
       "      <th></th>\n",
       "      <th>#</th>\n",
       "      <th>NAME_ENGLISH</th>\n",
       "      <th>NAME_GERMAN</th>\n",
       "      <th>NAME_FRENCH</th>\n",
       "      <th>NAME_JAPAN</th>\n",
       "      <th>NAME_KOREAN</th>\n",
       "      <th>TYP1</th>\n",
       "      <th>TYP2</th>\n",
       "      <th>GENERATION</th>\n",
       "      <th>CANDY</th>\n",
       "      <th>BUDDY_DISTANCE</th>\n",
       "      <th>MAX_HP</th>\n",
       "      <th>MAX_ATT</th>\n",
       "      <th>MAX_DEF</th>\n",
       "      <th>MAX_CP</th>\n",
       "      <th>CATCH_RATE</th>\n",
       "      <th>ESCAPE_RATE</th>\n",
       "      <th>SHINY</th>\n",
       "      <th>ICON_PATH</th>\n",
       "      <th>SPRITE_PATH</th>\n",
       "    </tr>\n",
       "  </thead>\n",
       "  <tbody>\n",
       "    <tr>\n",
       "      <th>0</th>\n",
       "      <td>1</td>\n",
       "      <td>Bulbasaur</td>\n",
       "      <td>Bisasam</td>\n",
       "      <td>Bulbizarre</td>\n",
       "      <td>Fushigidane</td>\n",
       "      <td>Isanghaessi</td>\n",
       "      <td>Grass</td>\n",
       "      <td>Poison</td>\n",
       "      <td>1.0</td>\n",
       "      <td>25.0</td>\n",
       "      <td>3.0</td>\n",
       "      <td>128.0</td>\n",
       "      <td>118.0</td>\n",
       "      <td>111.0</td>\n",
       "      <td>1115.0</td>\n",
       "      <td>20,00 %</td>\n",
       "      <td>10,00 %</td>\n",
       "      <td>Yes</td>\n",
       "      <td>./icon/001.png</td>\n",
       "      <td>./sprites/001.png</td>\n",
       "    </tr>\n",
       "    <tr>\n",
       "      <th>1</th>\n",
       "      <td>2</td>\n",
       "      <td>Ivysaur</td>\n",
       "      <td>Bisaknosp</td>\n",
       "      <td>Herbizarre</td>\n",
       "      <td>Fushigisou</td>\n",
       "      <td>Isanghaepul</td>\n",
       "      <td>Grass</td>\n",
       "      <td>Poison</td>\n",
       "      <td>1.0</td>\n",
       "      <td>100.0</td>\n",
       "      <td>3.0</td>\n",
       "      <td>155.0</td>\n",
       "      <td>151.0</td>\n",
       "      <td>143.0</td>\n",
       "      <td>1699.0</td>\n",
       "      <td>10,00 %</td>\n",
       "      <td>7,00 %</td>\n",
       "      <td>Yes</td>\n",
       "      <td>./icon/002.png</td>\n",
       "      <td>./sprites/002.png</td>\n",
       "    </tr>\n",
       "    <tr>\n",
       "      <th>12</th>\n",
       "      <td>13</td>\n",
       "      <td>Weedle</td>\n",
       "      <td>Hornliu</td>\n",
       "      <td>Aspicot</td>\n",
       "      <td>Beedle</td>\n",
       "      <td>Ppulchungi</td>\n",
       "      <td>Bug</td>\n",
       "      <td>Poison</td>\n",
       "      <td>1.0</td>\n",
       "      <td>12.0</td>\n",
       "      <td>1.0</td>\n",
       "      <td>120.0</td>\n",
       "      <td>63.0</td>\n",
       "      <td>50.0</td>\n",
       "      <td>456.0</td>\n",
       "      <td>50,00 %</td>\n",
       "      <td>20,00 %</td>\n",
       "      <td>No</td>\n",
       "      <td>./icon/013.png</td>\n",
       "      <td>./sprites/013.png</td>\n",
       "    </tr>\n",
       "    <tr>\n",
       "      <th>13</th>\n",
       "      <td>14</td>\n",
       "      <td>Kakuna</td>\n",
       "      <td>Kokuna</td>\n",
       "      <td>Coconfort</td>\n",
       "      <td>Cocoon</td>\n",
       "      <td>Ttakchungi</td>\n",
       "      <td>Bug</td>\n",
       "      <td>Poison</td>\n",
       "      <td>1.0</td>\n",
       "      <td>50.0</td>\n",
       "      <td>1.0</td>\n",
       "      <td>128.0</td>\n",
       "      <td>46.0</td>\n",
       "      <td>75.0</td>\n",
       "      <td>432.0</td>\n",
       "      <td>25,00 %</td>\n",
       "      <td>9,00 %</td>\n",
       "      <td>No</td>\n",
       "      <td>./icon/014.png</td>\n",
       "      <td>./sprites/014.png</td>\n",
       "    </tr>\n",
       "    <tr>\n",
       "      <th>15</th>\n",
       "      <td>16</td>\n",
       "      <td>Pidgey</td>\n",
       "      <td>Taubsi</td>\n",
       "      <td>Roucool</td>\n",
       "      <td>Poppo</td>\n",
       "      <td>Gugu</td>\n",
       "      <td>Normal</td>\n",
       "      <td>Flying</td>\n",
       "      <td>1.0</td>\n",
       "      <td>12.0</td>\n",
       "      <td>1.0</td>\n",
       "      <td>120.0</td>\n",
       "      <td>85.0</td>\n",
       "      <td>73.0</td>\n",
       "      <td>680.0</td>\n",
       "      <td>50,00 %</td>\n",
       "      <td>20,00 %</td>\n",
       "      <td>No</td>\n",
       "      <td>./icon/016.png</td>\n",
       "      <td>./sprites/016.png</td>\n",
       "    </tr>\n",
       "  </tbody>\n",
       "</table>\n",
       "</div>"
      ],
      "text/plain": [
       "     # NAME_ENGLISH NAME_GERMAN NAME_FRENCH   NAME_JAPAN  NAME_KOREAN    TYP1  \\\n",
       "0    1    Bulbasaur     Bisasam  Bulbizarre  Fushigidane  Isanghaessi   Grass   \n",
       "1    2      Ivysaur   Bisaknosp  Herbizarre   Fushigisou  Isanghaepul   Grass   \n",
       "12  13       Weedle     Hornliu     Aspicot       Beedle   Ppulchungi     Bug   \n",
       "13  14       Kakuna      Kokuna   Coconfort       Cocoon   Ttakchungi     Bug   \n",
       "15  16       Pidgey      Taubsi     Roucool        Poppo         Gugu  Normal   \n",
       "\n",
       "      TYP2  GENERATION  CANDY  BUDDY_DISTANCE  MAX_HP  MAX_ATT  MAX_DEF  \\\n",
       "0   Poison         1.0   25.0             3.0   128.0    118.0    111.0   \n",
       "1   Poison         1.0  100.0             3.0   155.0    151.0    143.0   \n",
       "12  Poison         1.0   12.0             1.0   120.0     63.0     50.0   \n",
       "13  Poison         1.0   50.0             1.0   128.0     46.0     75.0   \n",
       "15  Flying         1.0   12.0             1.0   120.0     85.0     73.0   \n",
       "\n",
       "    MAX_CP CATCH_RATE ESCAPE_RATE SHINY       ICON_PATH        SPRITE_PATH  \n",
       "0   1115.0    20,00 %     10,00 %   Yes  ./icon/001.png  ./sprites/001.png  \n",
       "1   1699.0    10,00 %      7,00 %   Yes  ./icon/002.png  ./sprites/002.png  \n",
       "12   456.0    50,00 %     20,00 %    No  ./icon/013.png  ./sprites/013.png  \n",
       "13   432.0    25,00 %      9,00 %    No  ./icon/014.png  ./sprites/014.png  \n",
       "15   680.0    50,00 %     20,00 %    No  ./icon/016.png  ./sprites/016.png  "
      ]
     },
     "execution_count": 19,
     "metadata": {},
     "output_type": "execute_result"
    }
   ],
   "source": [
    "XY=df.dropna()\n",
    "XY.head()"
   ]
  },
  {
   "cell_type": "code",
   "execution_count": 20,
   "metadata": {},
   "outputs": [],
   "source": [
    "#defining variables\n",
    "Y=XY['MAX_CP']\n",
    "X=XY[['MAX_HP', 'MAX_DEF', 'MAX_ATT']]"
   ]
  },
  {
   "cell_type": "code",
   "execution_count": 9,
   "metadata": {},
   "outputs": [
    {
     "data": {
      "text/plain": [
       "LinearRegression(copy_X=True, fit_intercept=True, n_jobs=None,\n",
       "         normalize=False)"
      ]
     },
     "execution_count": 9,
     "metadata": {},
     "output_type": "execute_result"
    }
   ],
   "source": [
    "lm=LinearRegression()\n",
    "lm.fit(X,Y)"
   ]
  },
  {
   "cell_type": "code",
   "execution_count": 10,
   "metadata": {},
   "outputs": [
    {
     "data": {
      "text/plain": [
       "array([4.1596096 , 4.59760506, 8.74539729])"
      ]
     },
     "execution_count": 10,
     "metadata": {},
     "output_type": "execute_result"
    }
   ],
   "source": [
    "lm.coef_"
   ]
  },
  {
   "cell_type": "code",
   "execution_count": 11,
   "metadata": {},
   "outputs": [
    {
     "data": {
      "text/plain": [
       "0.9664330639930848"
      ]
     },
     "execution_count": 11,
     "metadata": {},
     "output_type": "execute_result"
    }
   ],
   "source": [
    "lm.score(X,Y)\n",
    "#this shows that MAX_HP, MAX_DEF and MAX_ATT have high explanatory power. "
   ]
  },
  {
   "cell_type": "code",
   "execution_count": 12,
   "metadata": {},
   "outputs": [
    {
     "data": {
      "image/png": "[encoded data removed]",
      "text/plain": [
       "<Figure size 864x864 with 2 Axes>"
      ]
     },
     "metadata": {
      "needs_background": "light"
     },
     "output_type": "display_data"
    }
   ],
   "source": [
    "import seaborn as sns\n",
    "import matplotlib.pyplot as plt\n",
    "fig = plt.figure(figsize=[12, 12])\n",
    "corr_mtx = XY.corr()\n",
    "sns.heatmap(corr_mtx, xticklabels=corr_mtx.columns, yticklabels=corr_mtx.columns, annot=True, cmap='Blues')\n",
    "plt.title('Correlation analysis')\n",
    "plt.show()"
   ]
  },
  {
   "cell_type": "code",
   "execution_count": 26,
   "metadata": {},
   "outputs": [
    {
     "data": {
      "text/html": [
       "<div>\n",
       "<style scoped>\n",
       "    .dataframe tbody tr th:only-of-type {\n",
       "        vertical-align: middle;\n",
       "    }\n",
       "\n",
       "    .dataframe tbody tr th {\n",
       "        vertical-align: top;\n",
       "    }\n",
       "\n",
       "    .dataframe thead th {\n",
       "        text-align: right;\n",
       "    }\n",
       "</style>\n",
       "<table border=\"1\" class=\"dataframe\">\n",
       "  <thead>\n",
       "    <tr style=\"text-align: right;\">\n",
       "      <th></th>\n",
       "      <th>#</th>\n",
       "      <th>NAME_ENGLISH</th>\n",
       "      <th>NAME_GERMAN</th>\n",
       "      <th>NAME_FRENCH</th>\n",
       "      <th>NAME_JAPAN</th>\n",
       "      <th>NAME_KOREAN</th>\n",
       "      <th>TYP1</th>\n",
       "      <th>TYP2</th>\n",
       "      <th>GENERATION</th>\n",
       "      <th>CANDY</th>\n",
       "      <th>BUDDY_DISTANCE</th>\n",
       "      <th>MAX_HP</th>\n",
       "      <th>MAX_ATT</th>\n",
       "      <th>MAX_DEF</th>\n",
       "      <th>MAX_CP</th>\n",
       "      <th>CATCH_RATE</th>\n",
       "      <th>ESCAPE_RATE</th>\n",
       "      <th>SHINY</th>\n",
       "      <th>ICON_PATH</th>\n",
       "      <th>SPRITE_PATH</th>\n",
       "    </tr>\n",
       "  </thead>\n",
       "  <tbody>\n",
       "    <tr>\n",
       "      <th>0</th>\n",
       "      <td>1</td>\n",
       "      <td>Bulbasaur</td>\n",
       "      <td>Bisasam</td>\n",
       "      <td>Bulbizarre</td>\n",
       "      <td>Fushigidane</td>\n",
       "      <td>Isanghaessi</td>\n",
       "      <td>Grass</td>\n",
       "      <td>Poison</td>\n",
       "      <td>1.0</td>\n",
       "      <td>25.0</td>\n",
       "      <td>3.0</td>\n",
       "      <td>128.0</td>\n",
       "      <td>118.0</td>\n",
       "      <td>111.0</td>\n",
       "      <td>1115.0</td>\n",
       "      <td>20,00 %</td>\n",
       "      <td>10,00 %</td>\n",
       "      <td>Yes</td>\n",
       "      <td>./icon/001.png</td>\n",
       "      <td>./sprites/001.png</td>\n",
       "    </tr>\n",
       "    <tr>\n",
       "      <th>1</th>\n",
       "      <td>2</td>\n",
       "      <td>Ivysaur</td>\n",
       "      <td>Bisaknosp</td>\n",
       "      <td>Herbizarre</td>\n",
       "      <td>Fushigisou</td>\n",
       "      <td>Isanghaepul</td>\n",
       "      <td>Grass</td>\n",
       "      <td>Poison</td>\n",
       "      <td>1.0</td>\n",
       "      <td>100.0</td>\n",
       "      <td>3.0</td>\n",
       "      <td>155.0</td>\n",
       "      <td>151.0</td>\n",
       "      <td>143.0</td>\n",
       "      <td>1699.0</td>\n",
       "      <td>10,00 %</td>\n",
       "      <td>7,00 %</td>\n",
       "      <td>Yes</td>\n",
       "      <td>./icon/002.png</td>\n",
       "      <td>./sprites/002.png</td>\n",
       "    </tr>\n",
       "    <tr>\n",
       "      <th>12</th>\n",
       "      <td>13</td>\n",
       "      <td>Weedle</td>\n",
       "      <td>Hornliu</td>\n",
       "      <td>Aspicot</td>\n",
       "      <td>Beedle</td>\n",
       "      <td>Ppulchungi</td>\n",
       "      <td>Bug</td>\n",
       "      <td>Poison</td>\n",
       "      <td>1.0</td>\n",
       "      <td>12.0</td>\n",
       "      <td>1.0</td>\n",
       "      <td>120.0</td>\n",
       "      <td>63.0</td>\n",
       "      <td>50.0</td>\n",
       "      <td>456.0</td>\n",
       "      <td>50,00 %</td>\n",
       "      <td>20,00 %</td>\n",
       "      <td>No</td>\n",
       "      <td>./icon/013.png</td>\n",
       "      <td>./sprites/013.png</td>\n",
       "    </tr>\n",
       "    <tr>\n",
       "      <th>13</th>\n",
       "      <td>14</td>\n",
       "      <td>Kakuna</td>\n",
       "      <td>Kokuna</td>\n",
       "      <td>Coconfort</td>\n",
       "      <td>Cocoon</td>\n",
       "      <td>Ttakchungi</td>\n",
       "      <td>Bug</td>\n",
       "      <td>Poison</td>\n",
       "      <td>1.0</td>\n",
       "      <td>50.0</td>\n",
       "      <td>1.0</td>\n",
       "      <td>128.0</td>\n",
       "      <td>46.0</td>\n",
       "      <td>75.0</td>\n",
       "      <td>432.0</td>\n",
       "      <td>25,00 %</td>\n",
       "      <td>9,00 %</td>\n",
       "      <td>No</td>\n",
       "      <td>./icon/014.png</td>\n",
       "      <td>./sprites/014.png</td>\n",
       "    </tr>\n",
       "    <tr>\n",
       "      <th>15</th>\n",
       "      <td>16</td>\n",
       "      <td>Pidgey</td>\n",
       "      <td>Taubsi</td>\n",
       "      <td>Roucool</td>\n",
       "      <td>Poppo</td>\n",
       "      <td>Gugu</td>\n",
       "      <td>Normal</td>\n",
       "      <td>Flying</td>\n",
       "      <td>1.0</td>\n",
       "      <td>12.0</td>\n",
       "      <td>1.0</td>\n",
       "      <td>120.0</td>\n",
       "      <td>85.0</td>\n",
       "      <td>73.0</td>\n",
       "      <td>680.0</td>\n",
       "      <td>50,00 %</td>\n",
       "      <td>20,00 %</td>\n",
       "      <td>No</td>\n",
       "      <td>./icon/016.png</td>\n",
       "      <td>./sprites/016.png</td>\n",
       "    </tr>\n",
       "  </tbody>\n",
       "</table>\n",
       "</div>"
      ],
      "text/plain": [
       "     # NAME_ENGLISH NAME_GERMAN NAME_FRENCH   NAME_JAPAN  NAME_KOREAN    TYP1  \\\n",
       "0    1    Bulbasaur     Bisasam  Bulbizarre  Fushigidane  Isanghaessi   Grass   \n",
       "1    2      Ivysaur   Bisaknosp  Herbizarre   Fushigisou  Isanghaepul   Grass   \n",
       "12  13       Weedle     Hornliu     Aspicot       Beedle   Ppulchungi     Bug   \n",
       "13  14       Kakuna      Kokuna   Coconfort       Cocoon   Ttakchungi     Bug   \n",
       "15  16       Pidgey      Taubsi     Roucool        Poppo         Gugu  Normal   \n",
       "\n",
       "      TYP2  GENERATION  CANDY  BUDDY_DISTANCE  MAX_HP  MAX_ATT  MAX_DEF  \\\n",
       "0   Poison         1.0   25.0             3.0   128.0    118.0    111.0   \n",
       "1   Poison         1.0  100.0             3.0   155.0    151.0    143.0   \n",
       "12  Poison         1.0   12.0             1.0   120.0     63.0     50.0   \n",
       "13  Poison         1.0   50.0             1.0   128.0     46.0     75.0   \n",
       "15  Flying         1.0   12.0             1.0   120.0     85.0     73.0   \n",
       "\n",
       "    MAX_CP CATCH_RATE ESCAPE_RATE SHINY       ICON_PATH        SPRITE_PATH  \n",
       "0   1115.0    20,00 %     10,00 %   Yes  ./icon/001.png  ./sprites/001.png  \n",
       "1   1699.0    10,00 %      7,00 %   Yes  ./icon/002.png  ./sprites/002.png  \n",
       "12   456.0    50,00 %     20,00 %    No  ./icon/013.png  ./sprites/013.png  \n",
       "13   432.0    25,00 %      9,00 %    No  ./icon/014.png  ./sprites/014.png  \n",
       "15   680.0    50,00 %     20,00 %    No  ./icon/016.png  ./sprites/016.png  "
      ]
     },
     "execution_count": 26,
     "metadata": {},
     "output_type": "execute_result"
    }
   ],
   "source": [
    "XY2=df.dropna()\n",
    "XY2.head()"
   ]
  },
  {
   "cell_type": "code",
   "execution_count": 28,
   "metadata": {},
   "outputs": [],
   "source": [
    "Y2=XY2['MAX_CP']\n",
    "X2=XY2[['MAX_HP', 'CANDY', 'GENERATION','BUDDY_DISTANCE',]]"
   ]
  },
  {
   "cell_type": "code",
   "execution_count": 29,
   "metadata": {},
   "outputs": [
    {
     "data": {
      "text/plain": [
       "LinearRegression(copy_X=True, fit_intercept=True, n_jobs=None,\n",
       "         normalize=False)"
      ]
     },
     "execution_count": 29,
     "metadata": {},
     "output_type": "execute_result"
    }
   ],
   "source": [
    "lm=LinearRegression()\n",
    "lm.fit(X2,Y2)"
   ]
  },
  {
   "cell_type": "code",
   "execution_count": 31,
   "metadata": {},
   "outputs": [
    {
     "data": {
      "text/plain": [
       "array([  5.75583061,   3.4778564 , -94.91332932,  97.12948713])"
      ]
     },
     "execution_count": 31,
     "metadata": {},
     "output_type": "execute_result"
    }
   ],
   "source": [
    "lm.coef_"
   ]
  },
  {
   "cell_type": "code",
   "execution_count": 33,
   "metadata": {},
   "outputs": [
    {
     "data": {
      "text/plain": [
       "0.4035090918289224"
      ]
     },
     "execution_count": 33,
     "metadata": {},
     "output_type": "execute_result"
    }
   ],
   "source": [
    "lm.score(X2,Y2)\n",
    "#This result shows that the explaining power of CANDY,GENARATION and  BUDDY_DISTANCE is very low. "
   ]
  },
  {
   "cell_type": "code",
   "execution_count": 34,
   "metadata": {
    "scrolled": true
   },
   "outputs": [
    {
     "data": {
      "text/plain": [
       "array([ 1., nan,  2.,  3.,  4.,  5.,  6.,  7.])"
      ]
     },
     "execution_count": 34,
     "metadata": {},
     "output_type": "execute_result"
    }
   ],
   "source": [
    "#So we can creat a thrid model,where we add the varible CANDY and see if it has an impact in the explanatory power of the inicial model. \n"
   ]
  },
  {
   "cell_type": "code",
   "execution_count": 35,
   "metadata": {},
   "outputs": [
    {
     "data": {
      "text/html": [
       "<div>\n",
       "<style scoped>\n",
       "    .dataframe tbody tr th:only-of-type {\n",
       "        vertical-align: middle;\n",
       "    }\n",
       "\n",
       "    .dataframe tbody tr th {\n",
       "        vertical-align: top;\n",
       "    }\n",
       "\n",
       "    .dataframe thead th {\n",
       "        text-align: right;\n",
       "    }\n",
       "</style>\n",
       "<table border=\"1\" class=\"dataframe\">\n",
       "  <thead>\n",
       "    <tr style=\"text-align: right;\">\n",
       "      <th></th>\n",
       "      <th>#</th>\n",
       "      <th>NAME_ENGLISH</th>\n",
       "      <th>NAME_GERMAN</th>\n",
       "      <th>NAME_FRENCH</th>\n",
       "      <th>NAME_JAPAN</th>\n",
       "      <th>NAME_KOREAN</th>\n",
       "      <th>TYP1</th>\n",
       "      <th>TYP2</th>\n",
       "      <th>GENERATION</th>\n",
       "      <th>CANDY</th>\n",
       "      <th>BUDDY_DISTANCE</th>\n",
       "      <th>MAX_HP</th>\n",
       "      <th>MAX_ATT</th>\n",
       "      <th>MAX_DEF</th>\n",
       "      <th>MAX_CP</th>\n",
       "      <th>CATCH_RATE</th>\n",
       "      <th>ESCAPE_RATE</th>\n",
       "      <th>SHINY</th>\n",
       "      <th>ICON_PATH</th>\n",
       "      <th>SPRITE_PATH</th>\n",
       "    </tr>\n",
       "  </thead>\n",
       "  <tbody>\n",
       "    <tr>\n",
       "      <th>0</th>\n",
       "      <td>1</td>\n",
       "      <td>Bulbasaur</td>\n",
       "      <td>Bisasam</td>\n",
       "      <td>Bulbizarre</td>\n",
       "      <td>Fushigidane</td>\n",
       "      <td>Isanghaessi</td>\n",
       "      <td>Grass</td>\n",
       "      <td>Poison</td>\n",
       "      <td>1.0</td>\n",
       "      <td>25.0</td>\n",
       "      <td>3.0</td>\n",
       "      <td>128.0</td>\n",
       "      <td>118.0</td>\n",
       "      <td>111.0</td>\n",
       "      <td>1115.0</td>\n",
       "      <td>20,00 %</td>\n",
       "      <td>10,00 %</td>\n",
       "      <td>Yes</td>\n",
       "      <td>./icon/001.png</td>\n",
       "      <td>./sprites/001.png</td>\n",
       "    </tr>\n",
       "    <tr>\n",
       "      <th>1</th>\n",
       "      <td>2</td>\n",
       "      <td>Ivysaur</td>\n",
       "      <td>Bisaknosp</td>\n",
       "      <td>Herbizarre</td>\n",
       "      <td>Fushigisou</td>\n",
       "      <td>Isanghaepul</td>\n",
       "      <td>Grass</td>\n",
       "      <td>Poison</td>\n",
       "      <td>1.0</td>\n",
       "      <td>100.0</td>\n",
       "      <td>3.0</td>\n",
       "      <td>155.0</td>\n",
       "      <td>151.0</td>\n",
       "      <td>143.0</td>\n",
       "      <td>1699.0</td>\n",
       "      <td>10,00 %</td>\n",
       "      <td>7,00 %</td>\n",
       "      <td>Yes</td>\n",
       "      <td>./icon/002.png</td>\n",
       "      <td>./sprites/002.png</td>\n",
       "    </tr>\n",
       "    <tr>\n",
       "      <th>12</th>\n",
       "      <td>13</td>\n",
       "      <td>Weedle</td>\n",
       "      <td>Hornliu</td>\n",
       "      <td>Aspicot</td>\n",
       "      <td>Beedle</td>\n",
       "      <td>Ppulchungi</td>\n",
       "      <td>Bug</td>\n",
       "      <td>Poison</td>\n",
       "      <td>1.0</td>\n",
       "      <td>12.0</td>\n",
       "      <td>1.0</td>\n",
       "      <td>120.0</td>\n",
       "      <td>63.0</td>\n",
       "      <td>50.0</td>\n",
       "      <td>456.0</td>\n",
       "      <td>50,00 %</td>\n",
       "      <td>20,00 %</td>\n",
       "      <td>No</td>\n",
       "      <td>./icon/013.png</td>\n",
       "      <td>./sprites/013.png</td>\n",
       "    </tr>\n",
       "    <tr>\n",
       "      <th>13</th>\n",
       "      <td>14</td>\n",
       "      <td>Kakuna</td>\n",
       "      <td>Kokuna</td>\n",
       "      <td>Coconfort</td>\n",
       "      <td>Cocoon</td>\n",
       "      <td>Ttakchungi</td>\n",
       "      <td>Bug</td>\n",
       "      <td>Poison</td>\n",
       "      <td>1.0</td>\n",
       "      <td>50.0</td>\n",
       "      <td>1.0</td>\n",
       "      <td>128.0</td>\n",
       "      <td>46.0</td>\n",
       "      <td>75.0</td>\n",
       "      <td>432.0</td>\n",
       "      <td>25,00 %</td>\n",
       "      <td>9,00 %</td>\n",
       "      <td>No</td>\n",
       "      <td>./icon/014.png</td>\n",
       "      <td>./sprites/014.png</td>\n",
       "    </tr>\n",
       "    <tr>\n",
       "      <th>15</th>\n",
       "      <td>16</td>\n",
       "      <td>Pidgey</td>\n",
       "      <td>Taubsi</td>\n",
       "      <td>Roucool</td>\n",
       "      <td>Poppo</td>\n",
       "      <td>Gugu</td>\n",
       "      <td>Normal</td>\n",
       "      <td>Flying</td>\n",
       "      <td>1.0</td>\n",
       "      <td>12.0</td>\n",
       "      <td>1.0</td>\n",
       "      <td>120.0</td>\n",
       "      <td>85.0</td>\n",
       "      <td>73.0</td>\n",
       "      <td>680.0</td>\n",
       "      <td>50,00 %</td>\n",
       "      <td>20,00 %</td>\n",
       "      <td>No</td>\n",
       "      <td>./icon/016.png</td>\n",
       "      <td>./sprites/016.png</td>\n",
       "    </tr>\n",
       "  </tbody>\n",
       "</table>\n",
       "</div>"
      ],
      "text/plain": [
       "     # NAME_ENGLISH NAME_GERMAN NAME_FRENCH   NAME_JAPAN  NAME_KOREAN    TYP1  \\\n",
       "0    1    Bulbasaur     Bisasam  Bulbizarre  Fushigidane  Isanghaessi   Grass   \n",
       "1    2      Ivysaur   Bisaknosp  Herbizarre   Fushigisou  Isanghaepul   Grass   \n",
       "12  13       Weedle     Hornliu     Aspicot       Beedle   Ppulchungi     Bug   \n",
       "13  14       Kakuna      Kokuna   Coconfort       Cocoon   Ttakchungi     Bug   \n",
       "15  16       Pidgey      Taubsi     Roucool        Poppo         Gugu  Normal   \n",
       "\n",
       "      TYP2  GENERATION  CANDY  BUDDY_DISTANCE  MAX_HP  MAX_ATT  MAX_DEF  \\\n",
       "0   Poison         1.0   25.0             3.0   128.0    118.0    111.0   \n",
       "1   Poison         1.0  100.0             3.0   155.0    151.0    143.0   \n",
       "12  Poison         1.0   12.0             1.0   120.0     63.0     50.0   \n",
       "13  Poison         1.0   50.0             1.0   128.0     46.0     75.0   \n",
       "15  Flying         1.0   12.0             1.0   120.0     85.0     73.0   \n",
       "\n",
       "    MAX_CP CATCH_RATE ESCAPE_RATE SHINY       ICON_PATH        SPRITE_PATH  \n",
       "0   1115.0    20,00 %     10,00 %   Yes  ./icon/001.png  ./sprites/001.png  \n",
       "1   1699.0    10,00 %      7,00 %   Yes  ./icon/002.png  ./sprites/002.png  \n",
       "12   456.0    50,00 %     20,00 %    No  ./icon/013.png  ./sprites/013.png  \n",
       "13   432.0    25,00 %      9,00 %    No  ./icon/014.png  ./sprites/014.png  \n",
       "15   680.0    50,00 %     20,00 %    No  ./icon/016.png  ./sprites/016.png  "
      ]
     },
     "execution_count": 35,
     "metadata": {},
     "output_type": "execute_result"
    }
   ],
   "source": [
    "XY3=df.dropna()\n",
    "XY3.head()"
   ]
  },
  {
   "cell_type": "code",
   "execution_count": 36,
   "metadata": {},
   "outputs": [],
   "source": [
    "Y3=XY2['MAX_CP']\n",
    "X3=XY2[['MAX_HP', 'MAX_HP', 'MAX_DEF', 'MAX_ATT','CANDY']]"
   ]
  },
  {
   "cell_type": "code",
   "execution_count": 41,
   "metadata": {},
   "outputs": [
    {
     "data": {
      "text/plain": [
       "LinearRegression(copy_X=True, fit_intercept=True, n_jobs=None,\n",
       "         normalize=False)"
      ]
     },
     "execution_count": 41,
     "metadata": {},
     "output_type": "execute_result"
    }
   ],
   "source": [
    "lm=LinearRegression()\n",
    "lm.fit(X3,Y3)"
   ]
  },
  {
   "cell_type": "code",
   "execution_count": 42,
   "metadata": {},
   "outputs": [
    {
     "data": {
      "text/plain": [
       "array([2.07901741, 2.07901741, 4.58151401, 8.73357581, 0.05605708])"
      ]
     },
     "execution_count": 42,
     "metadata": {},
     "output_type": "execute_result"
    }
   ],
   "source": [
    "lm.coef_"
   ]
  },
  {
   "cell_type": "code",
   "execution_count": 43,
   "metadata": {},
   "outputs": [
    {
     "data": {
      "text/plain": [
       "0.9664557143060987"
      ]
     },
     "execution_count": 43,
     "metadata": {},
     "output_type": "execute_result"
    }
   ],
   "source": [
    "lm.score(X3,Y3)\n",
    "#The r-square show a marginal increased, as predicted. The impact of CANDY it in't much significant."
   ]
  },
  {
   "cell_type": "code",
   "execution_count": null,
   "metadata": {},
   "outputs": [],
   "source": []
  }
 ],
 "metadata": {
  "kernelspec": {
   "display_name": "Python 3",
   "language": "python",
   "name": "python3"
  },
  "language_info": {
   "codemirror_mode": {
    "name": "ipython",
    "version": 3
   },
   "file_extension": ".py",
   "mimetype": "text/x-python",
   "name": "python",
   "nbconvert_exporter": "python",
   "pygments_lexer": "ipython3",
   "version": "3.7.4"
  }
 },
 "nbformat": 4,
 "nbformat_minor": 2
}
