{
 "cells": [
  {
   "cell_type": "markdown",
   "metadata": {},
   "source": [
    "# Lab 8 \n",
    "\n",
    "A simple chatbot\n",
    "\n",
    "**1.** Create a function that asks the user his name and says Hello, John Doe\n",
    "\n",
    "**2.** Create a function called chat that ask the user what is his problem and will answer \"yes of course\"\n",
    "\n",
    "**3.** Create a function called chat that ask the user what is his problem and will answer randomly among 6 possible answers\n",
    "\n",
    "**4.** Put all together and improve\n"
   ]
  },
  {
   "cell_type": "markdown",
   "metadata": {},
   "source": [
    "**1.** Create a function that ask the user his name and says Hello, John Doe"
   ]
  },
  {
   "cell_type": "code",
   "execution_count": 9,
   "metadata": {},
   "outputs": [
    {
     "name": "stdout",
     "output_type": "stream",
     "text": [
      "whats your name?Catarina\n"
     ]
    },
    {
     "data": {
      "text/plain": [
       "'How are you, Catarina?'"
      ]
     },
     "execution_count": 9,
     "metadata": {},
     "output_type": "execute_result"
    }
   ],
   "source": [
    "# Create a function that ask the user his name and says Hello, John Doe\n",
    "\n",
    "def ask(question,answer):\n",
    "    msg= ''\n",
    "    while msg == '':\n",
    "        msg=input(question)\n",
    "    return str(answer) + str(msg) + \"?\"\n",
    "\n",
    "ask('whats your name?' , \"How are you, \")\n",
    "    \n"
   ]
  },
  {
   "cell_type": "markdown",
   "metadata": {},
   "source": [
    "**2.** Create a function called chat that ask the user what is his problem and will answer \"yes of course\""
   ]
  },
  {
   "cell_type": "code",
   "execution_count": 10,
   "metadata": {},
   "outputs": [
    {
     "name": "stdout",
     "output_type": "stream",
     "text": [
      "Do you have a problem?Yes\n",
      "Yes, of course\n",
      "Do you have a problem?none\n",
      "Yes, of course\n"
     ]
    }
   ],
   "source": [
    "# Create a function called chat that ask the user what is his problem and will answer \"yes of course\"\n",
    " \n",
    "def chat():\n",
    "    problem=\"\"\n",
    "    while problem != \"none\":\n",
    "        problem=input(\"Do you have a problem?\")\n",
    "        print(\"Yes, of course\")\n",
    "chat()"
   ]
  },
  {
   "cell_type": "markdown",
   "metadata": {},
   "source": [
    "**3.** Create a function called chat that ask the user what is his problem and will answer randomly among 6 possible answers"
   ]
  },
  {
   "cell_type": "code",
   "execution_count": null,
   "metadata": {},
   "outputs": [
    {
     "name": "stdout",
     "output_type": "stream",
     "text": [
      "Whats your problem?everything\n",
      "Almost there\n",
      "Whats your problem?potatoes\n",
      "we are solving your problem\n",
      "Whats your problem?none\n",
      "Please hold, we're taking care of it\n",
      "Whats your problem?waiting\n",
      "Wait a minute\n"
     ]
    }
   ],
   "source": [
    "# Create a function called chat that ask the user what is his problem and will answer randomly among 6 possible answers\n",
    "\n",
    "import random\n",
    "answer=(\"Wait a minute\",\"we are solving your problem\", \"Please hold, we're taking care of it\", \"Almost there\")\n",
    "def chat01():\n",
    "    problem01=\"\"\n",
    "    while problem01 != \"none\":\n",
    "        problem_1=input(\"Whats your problem?\")\n",
    "        print(random.choice(answer))\n",
    "        \n",
    "chat01()"
   ]
  },
  {
   "cell_type": "markdown",
   "metadata": {},
   "source": [
    "**4.** Put all together and improve"
   ]
  },
  {
   "cell_type": "code",
   "execution_count": 5,
   "metadata": {},
   "outputs": [
    {
     "name": "stdout",
     "output_type": "stream",
     "text": [
      "What's your nameCatarina\n",
      "What's your problem?everything\n",
      "Almost there\n",
      "What's your namenone\n"
     ]
    }
   ],
   "source": [
    "import random\n",
    "answer=(\"Wait a minute\",\"we are solving your problem\", \"Please hold, we're taking care of it\", \"Almost there\")\n",
    "\n",
    "def conversation():\n",
    "    msg=''\n",
    "    while msg!='none':\n",
    "        msg=input(\"What's your name\")\n",
    "    \n",
    "        if msg!='none':\n",
    "            msg= input(\"What's your problem?\")\n",
    "            print(random.choice(answer))\n",
    "conversation()"
   ]
  },
  {
   "cell_type": "code",
   "execution_count": null,
   "metadata": {},
   "outputs": [],
   "source": []
  }
 ],
 "metadata": {
  "kernelspec": {
   "display_name": "Python 3",
   "language": "python",
   "name": "python3"
  },
  "language_info": {
   "codemirror_mode": {
    "name": "ipython",
    "version": 3
   },
   "file_extension": ".py",
   "mimetype": "text/x-python",
   "name": "python",
   "nbconvert_exporter": "python",
   "pygments_lexer": "ipython3",
   "version": "3.7.4"
  }
 },
 "nbformat": 4,
 "nbformat_minor": 2
}
