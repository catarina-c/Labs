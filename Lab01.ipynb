{
 "cells": [
  {
   "cell_type": "code",
   "execution_count": 4,
   "metadata": {},
   "outputs": [
    {
     "data": {
      "text/plain": [
       "False"
      ]
     },
     "execution_count": 4,
     "metadata": {},
     "output_type": "execute_result"
    }
   ],
   "source": [
    "# Verify if a value is integer\n",
    "value=10.5\n",
    "int(value)==value"
   ]
  },
  {
   "cell_type": "code",
   "execution_count": 5,
   "metadata": {},
   "outputs": [
    {
     "data": {
      "text/plain": [
       "True"
      ]
     },
     "execution_count": 5,
     "metadata": {},
     "output_type": "execute_result"
    }
   ],
   "source": [
    "# Verify if a value is even\n",
    "value= 2\n",
    "(value % 2) == 0 \n"
   ]
  },
  {
   "cell_type": "code",
   "execution_count": 6,
   "metadata": {},
   "outputs": [
    {
     "data": {
      "text/plain": [
       "False"
      ]
     },
     "execution_count": 6,
     "metadata": {},
     "output_type": "execute_result"
    }
   ],
   "source": [
    "# Alternativamente, podemos fazer também:\n",
    "\n",
    "value= 3\n",
    "value /2 == int(value/2) "
   ]
  },
  {
   "cell_type": "code",
   "execution_count": 7,
   "metadata": {},
   "outputs": [
    {
     "data": {
      "text/plain": [
       "True"
      ]
     },
     "execution_count": 7,
     "metadata": {},
     "output_type": "execute_result"
    }
   ],
   "source": [
    "# Insert two numbers. Is the first is bigger than the second?\n",
    "value1= 12\n",
    "value2 = 5\n",
    "value1>value2\n"
   ]
  },
  {
   "cell_type": "code",
   "execution_count": 19,
   "metadata": {},
   "outputs": [
    {
     "data": {
      "text/plain": [
       "18.0"
      ]
     },
     "execution_count": 19,
     "metadata": {},
     "output_type": "execute_result"
    }
   ],
   "source": [
    "# \" Calculate the interest earn by an investor that invested a capital of 200 during 3 years with an interest rate of 3%.\n",
    "capital=200\n",
    "time=3\n",
    "rate= 0.03\n",
    "I= capital * time *rate\n",
    "I"
   ]
  },
  {
   "cell_type": "code",
   "execution_count": 18,
   "metadata": {},
   "outputs": [
    {
     "data": {
      "text/plain": [
       "False"
      ]
     },
     "execution_count": 18,
     "metadata": {},
     "output_type": "execute_result"
    }
   ],
   "source": [
    "# Verify if one value is multiple of another\n",
    "value1 =7\n",
    "value2 = 5 \n",
    "\n",
    "value1%value2 == 0 or value2%value1 == 0\n",
    "\n"
   ]
  },
  {
   "cell_type": "code",
   "execution_count": 17,
   "metadata": {},
   "outputs": [
    {
     "data": {
      "text/plain": [
       "218.5454"
      ]
     },
     "execution_count": 17,
     "metadata": {},
     "output_type": "execute_result"
    }
   ],
   "source": [
    "# Capital that an investor obtained after investing a capital of 200 during 3 years with an interest rate of 3%. \n",
    "capital=200\n",
    "time=3\n",
    "rate= 0.03\n",
    "accuraedcapital = capital * (1+rate) ** time\n",
    "accuraedcapital"
   ]
  },
  {
   "cell_type": "code",
   "execution_count": 15,
   "metadata": {},
   "outputs": [
    {
     "data": {
      "text/plain": [
       "18.818924310286427"
      ]
     },
     "execution_count": 15,
     "metadata": {},
     "output_type": "execute_result"
    }
   ],
   "source": [
    " # Calculate your BMI\n",
    "M=50\n",
    "H=1.63\n",
    "BMI = M / (H**2)\n",
    "BMI"
   ]
  },
  {
   "cell_type": "code",
   "execution_count": 14,
   "metadata": {},
   "outputs": [
    {
     "data": {
      "text/plain": [
       "1.618033988749895"
      ]
     },
     "execution_count": 14,
     "metadata": {},
     "output_type": "execute_result"
    }
   ],
   "source": [
    "# Golden ration 1+raiz5 / 2\n",
    "GR=(1 + 5**(1/2)) / 2\n",
    "GR"
   ]
  },
  {
   "cell_type": "code",
   "execution_count": 12,
   "metadata": {},
   "outputs": [
    {
     "data": {
      "text/plain": [
       "3139.440301519393"
      ]
     },
     "execution_count": 12,
     "metadata": {},
     "output_type": "execute_result"
    }
   ],
   "source": [
    "#Calculete the NPV (Net present value) of an investment, considering an initial investment of 10000, the following Cashflows\n",
    "C0=10000\n",
    "C1=2000\n",
    "C2=3000\n",
    "C3=4000\n",
    "C4=4000\n",
    "C5=5000\n",
    "R= 0.1\n",
    "\n",
    "npv= ((C1 /(1+R)**1) + (C2/(1+R)**2) + (C3/(1+R)**3) + (C4/(1+R)**4) + (C5/(1+R)**5)) - C0\n",
    "npv"
   ]
  },
  {
   "cell_type": "code",
   "execution_count": null,
   "metadata": {},
   "outputs": [],
   "source": [
    "# Ask the user to insert name and age. Calculate the the birth. Print a result saying the 'this person was born in'\n",
    "# 1. Solve the problem without using modules and libraries\n",
    "# 2. Solve the problem using the date library from module datetime, as fallow:"
   ]
  },
  {
   "cell_type": "code",
   "execution_count": null,
   "metadata": {},
   "outputs": [],
   "source": [
    "# Ask the user to insert forenames, surnames. create a new variable (name) with your complete name.\n",
    "# Create the follwoing variables:\n",
    "# nameBig, where all the characters of the name are capitalized\n",
    "# nameTitle, where the only the first character of each name (word) is capitalized\n",
    "# nameSmall, where all the characters of the name are lower\n",
    "# nameCapitalized, where only the first charater of the first name is capitalized"
   ]
  },
  {
   "cell_type": "code",
   "execution_count": null,
   "metadata": {},
   "outputs": [],
   "source": [
    "# Use the follwoing method to show where in which carater appears the firs \"da\"\n",
    "# str.find(sub,start,end)\n",
    "# What happens if does not find?"
   ]
  }
 ],
 "metadata": {
  "kernelspec": {
   "display_name": "Python 3",
   "language": "python",
   "name": "python3"
  },
  "language_info": {
   "codemirror_mode": {
    "name": "ipython",
    "version": 3
   },
   "file_extension": ".py",
   "mimetype": "text/x-python",
   "name": "python",
   "nbconvert_exporter": "python",
   "pygments_lexer": "ipython3",
   "version": "3.7.3"
  }
 },
 "nbformat": 4,
 "nbformat_minor": 2
}
