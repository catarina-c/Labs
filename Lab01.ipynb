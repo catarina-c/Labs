{
 "cells": [
  {
   "cell_type": "code",
   "execution_count": 1,
   "metadata": {},
   "outputs": [
    {
     "data": {
      "text/plain": [
       "False"
      ]
     },
     "execution_count": 1,
     "metadata": {},
     "output_type": "execute_result"
    }
   ],
   "source": [
    "#1. Verify if a value is integer\n",
    "value=10.5\n",
    "int(value)==value"
   ]
  },
  {
   "cell_type": "code",
   "execution_count": 2,
   "metadata": {},
   "outputs": [
    {
     "data": {
      "text/plain": [
       "True"
      ]
     },
     "execution_count": 2,
     "metadata": {},
     "output_type": "execute_result"
    }
   ],
   "source": [
    "#2. Verify if a value is even\n",
    "value= 2\n",
    "(value % 2) == 0 \n"
   ]
  },
  {
   "cell_type": "code",
   "execution_count": 3,
   "metadata": {},
   "outputs": [
    {
     "data": {
      "text/plain": [
       "False"
      ]
     },
     "execution_count": 3,
     "metadata": {},
     "output_type": "execute_result"
    }
   ],
   "source": [
    "#2. Alternativamente, podemos fazer também:\n",
    "\n",
    "value= 3\n",
    "value /2 == int(value/2) "
   ]
  },
  {
   "cell_type": "code",
   "execution_count": 4,
   "metadata": {},
   "outputs": [
    {
     "data": {
      "text/plain": [
       "True"
      ]
     },
     "execution_count": 4,
     "metadata": {},
     "output_type": "execute_result"
    }
   ],
   "source": [
    "#3. Insert two numbers. Is the first is bigger than the second?\n",
    "value1= 12\n",
    "value2 = 5\n",
    "value1>value2\n"
   ]
  },
  {
   "cell_type": "code",
   "execution_count": 5,
   "metadata": {},
   "outputs": [
    {
     "data": {
      "text/plain": [
       "False"
      ]
     },
     "execution_count": 5,
     "metadata": {},
     "output_type": "execute_result"
    }
   ],
   "source": [
    "#4. Verify if one value is multiple of another\n",
    "value1 =7\n",
    "value2 = 5 \n",
    "\n",
    "value1%value2 == 0 or value2%value1 == 0\n",
    "\n"
   ]
  },
  {
   "cell_type": "code",
   "execution_count": 6,
   "metadata": {},
   "outputs": [
    {
     "name": "stdout",
     "output_type": "stream",
     "text": [
      "18.0\n"
     ]
    }
   ],
   "source": [
    "#5.Calculate the interest earn by an investor that invested a capital of 200 during 3 years with an interest rate of 3%.\n",
    "capital=200\n",
    "time=3\n",
    "rate= 0.03\n",
    "I= capital * time *rate\n",
    "print(I)"
   ]
  },
  {
   "cell_type": "code",
   "execution_count": 7,
   "metadata": {},
   "outputs": [
    {
     "name": "stdout",
     "output_type": "stream",
     "text": [
      "218.5454\n"
     ]
    }
   ],
   "source": [
    "#6. Capital that an investor obtained after investing a capital of 200 during 3 years with an interest rate of 3%. \n",
    "capital=200\n",
    "time=3\n",
    "rate= 0.03\n",
    "accuraedcapital = capital * (1+rate) ** time\n",
    "print(accuraedcapital)"
   ]
  },
  {
   "cell_type": "code",
   "execution_count": 8,
   "metadata": {},
   "outputs": [
    {
     "name": "stdout",
     "output_type": "stream",
     "text": [
      "18.818924310286427\n"
     ]
    }
   ],
   "source": [
    "#7. Calculate your BMI\n",
    "M=50\n",
    "H=1.63\n",
    "BMI = M / (H**2)\n",
    "print(BMI)"
   ]
  },
  {
   "cell_type": "code",
   "execution_count": 9,
   "metadata": {},
   "outputs": [
    {
     "name": "stdout",
     "output_type": "stream",
     "text": [
      "1.618033988749895\n"
     ]
    }
   ],
   "source": [
    "#8. Golden ration 1+raiz5 / 2\n",
    "GR=(1 + 5**(1/2)) / 2\n",
    "print(GR)"
   ]
  },
  {
   "cell_type": "code",
   "execution_count": 10,
   "metadata": {},
   "outputs": [
    {
     "name": "stdout",
     "output_type": "stream",
     "text": [
      "3139.440301519393\n"
     ]
    }
   ],
   "source": [
    "#Calculete the NPV (Net present value) of an investment, considering an initial investment of 10000, the following Cashflows\n",
    "C0=10000\n",
    "C1=2000\n",
    "C2=3000\n",
    "C3=4000\n",
    "C4=4000\n",
    "C5=5000\n",
    "R= 0.1\n",
    "\n",
    "npv= ((C1 /(1+R)**1) + (C2/(1+R)**2) + (C3/(1+R)**3) + (C4/(1+R)**4) + (C5/(1+R)**5)) - C0\n",
    "print(npv)"
   ]
  },
  {
   "cell_type": "code",
   "execution_count": 5,
   "metadata": {},
   "outputs": [
    {
     "name": "stdout",
     "output_type": "stream",
     "text": [
      "Please,insert your name catarina\n",
      "catarina\n",
      "Please,insert your age 21\n",
      "21\n"
     ]
    }
   ],
   "source": [
    "#10. Ask the user to insert name and age. Calculate the birth. Print a result saying the 'this person was born in'\n",
    "name = input(\"Please,insert your name \")\n",
    "print(name)\n",
    "age = input(\"Please,insert your age \")\n",
    "print(age)\n"
   ]
  },
  {
   "cell_type": "code",
   "execution_count": 45,
   "metadata": {},
   "outputs": [
    {
     "name": "stdout",
     "output_type": "stream",
     "text": [
      "this person was born in\n",
      "1998\n"
     ]
    }
   ],
   "source": [
    "#10.1 Calculate the birth. Print a result saying the 'this person was born in'\n",
    "# Solve the problem without using modules and libraries.\n",
    "birth=2019-int(age)\n",
    "print('this person was born in')  \n",
    "print(birth)"
   ]
  },
  {
   "cell_type": "code",
   "execution_count": null,
   "metadata": {},
   "outputs": [],
   "source": [
    "#10.2 Calculate the birth. Print a result saying the 'this person was born in'\n",
    "#Solve the problem using the date library from module datetime.\n",
    "\n",
    "from birth import date\n",
    "today=date.today()\n",
    "today.year"
   ]
  },
  {
   "cell_type": "code",
   "execution_count": 10,
   "metadata": {},
   "outputs": [
    {
     "name": "stdout",
     "output_type": "stream",
     "text": [
      "Please, insert your forenames Catarina\n",
      "Please, insert your surname Cotovio\n",
      "Catarina\n",
      "Cotovio\n"
     ]
    }
   ],
   "source": [
    "#11. Ask the user to insert forenames, surnames. Create a new variable (name) with your complete name.\n",
    "forename = input(\"Please, insert your forenames \")\n",
    "surname = input(\"Please, insert your surname \")\n",
    "print(forename) \n",
    "print(surname)"
   ]
  },
  {
   "cell_type": "code",
   "execution_count": 43,
   "metadata": {},
   "outputs": [
    {
     "name": "stdout",
     "output_type": "stream",
     "text": [
      "CATARINA COTOVIO\n",
      "Catarina Cotovio\n",
      "catarina cotovio\n",
      "Catarina cotovio\n"
     ]
    }
   ],
   "source": [
    "#11.1 Create the follwoing variables:\n",
    "nameBig = str.upper(forename + \" \" + surname)\n",
    "print(nameBig)\n",
    "nameTitle = str.title(forename + \" \" + surname)\n",
    "print(nameTitle)\n",
    "nameSmall = str.lower(forename + \" \" + surname)\n",
    "print(nameSmall)\n",
    "nameCapitalized = str.capitalize (forename + \" \" + surname)\n",
    "print(nameCapitalized)\n",
    "\n"
   ]
  },
  {
   "cell_type": "code",
   "execution_count": null,
   "metadata": {},
   "outputs": [],
   "source": [
    "#12. Use the follwoing method to show where in which carater appears the firs \"da\"\n",
    "\n",
    "str.find(sub,start,end)\n",
    "\n",
    "# What happens if does not find?"
   ]
  }
 ],
 "metadata": {
  "kernelspec": {
   "display_name": "Python 3",
   "language": "python",
   "name": "python3"
  },
  "language_info": {
   "codemirror_mode": {
    "name": "ipython",
    "version": 3
   },
   "file_extension": ".py",
   "mimetype": "text/x-python",
   "name": "python",
   "nbconvert_exporter": "python",
   "pygments_lexer": "ipython3",
   "version": "3.7.3"
  }
 },
 "nbformat": 4,
 "nbformat_minor": 2
}
