{
 "cells": [
  {
   "cell_type": "code",
   "execution_count": 2,
   "metadata": {},
   "outputs": [
    {
     "name": "stdout",
     "output_type": "stream",
     "text": [
      "[-1000.0, 192.3076923076923, 184.91124260355028, 266.69890760127447, 427.4020955148628]\n",
      "71.3199380273798\n"
     ]
    }
   ],
   "source": [
    "#1.calculate NPV. The rate is a float and the cash flows and investment are in a list.\n",
    "CFList=[-1000, 200, 200, 300, 500]\n",
    "\n",
    "for i in range(0, len(CFList)): \n",
    "    CFList[i] = int(CFList[i])\n",
    "CFlist=[]\n",
    "rate= 0.04\n",
    "years=5\n",
    "\n",
    "for i in range(years):\n",
    "    CF = CFList[i] / ((1 + rate) ** i)\n",
    "    CFlist.append(CF)\n",
    "print(CFlist)\n",
    "NPV = sum(CFlist)\n",
    "print(NPV)"
   ]
  },
  {
   "cell_type": "code",
   "execution_count": 3,
   "metadata": {},
   "outputs": [],
   "source": [
    "#2. create a function called NPV to calculate NPV.\n",
    "#calcule the NPV sugestion: iterate both by index and value using enume rate.\n",
    "#sol=71.3199\n",
    "\n",
    "for t, CF in enumerate(CFList):\n",
    "    NPV=NPV+CF/((1+rate)**t)"
   ]
  },
  {
   "cell_type": "code",
   "execution_count": 4,
   "metadata": {},
   "outputs": [],
   "source": [
    "#create a function called NPV that returns the NPV value\n",
    "#sol => print(NPV(CFList, rate))\n",
    "\n",
    "def npv (cashflow, discountRate):\n",
    "    pv=0\n",
    "    for t, CF in enumerate(cashflow):\n",
    "        pv+=CF/((1+discountRate)**t)\n",
    "    return(pv)\n"
   ]
  },
  {
   "cell_type": "code",
   "execution_count": 5,
   "metadata": {},
   "outputs": [
    {
     "name": "stdout",
     "output_type": "stream",
     "text": [
      "71.3199380273798\n"
     ]
    }
   ],
   "source": [
    "print(npv(CFList,rate))"
   ]
  },
  {
   "cell_type": "code",
   "execution_count": 6,
   "metadata": {},
   "outputs": [],
   "source": [
    "#3.create a function to calcule IRR. In order to calculate IRR you may aproximate the follwoing expression:\n",
    "#rate= rate*(1-NPV(CFList, rate)/invest)\n",
    "\n",
    "def IRR (CFList):\n",
    "    rate=1\n",
    "    for i  in range(1, 100):\n",
    "        rate = rate*(1-npv(CFList,rate)/CFList[0])\n",
    "    return rate\n"
   ]
  },
  {
   "cell_type": "code",
   "execution_count": 7,
   "metadata": {},
   "outputs": [
    {
     "name": "stdout",
     "output_type": "stream",
     "text": [
      "0.06542842834790366\n"
     ]
    }
   ],
   "source": [
    "print(IRR(CFList))"
   ]
  },
  {
   "cell_type": "code",
   "execution_count": 8,
   "metadata": {},
   "outputs": [
    {
     "name": "stdout",
     "output_type": "stream",
     "text": [
      "[-1000, -800, -600, -300, 200]\n"
     ]
    }
   ],
   "source": [
    "#4.create a function for payback period.\n",
    "\n",
    "\n",
    "CCF=[]\n",
    "CCF.append(CFList[0])\n",
    "\n",
    "for i  in range (1, len(CFList)):\n",
    "    CCF.append((CCF[i-1]+CFList[i]))\n",
    "print(CCF)\n"
   ]
  },
  {
   "cell_type": "code",
   "execution_count": 9,
   "metadata": {},
   "outputs": [
    {
     "name": "stdout",
     "output_type": "stream",
     "text": [
      "4\n",
      "3.6\n"
     ]
    }
   ],
   "source": [
    "#Alternativamente\n",
    "\n",
    "PBPeriod=[i for i, x in enumerate(CCF) if x>0]\n",
    "print(PBPeriod[0])\n",
    "\n",
    "PBPeriodexact=PBPeriod[0]-1+(CCF[-2]*(-1))/(CCF[-1]-CCF[-2])\n",
    "print(PBPeriodexact)"
   ]
  },
  {
   "cell_type": "code",
   "execution_count": null,
   "metadata": {},
   "outputs": [],
   "source": []
  },
  {
   "cell_type": "code",
   "execution_count": null,
   "metadata": {},
   "outputs": [],
   "source": []
  }
 ],
 "metadata": {
  "kernelspec": {
   "display_name": "Python 3",
   "language": "python",
   "name": "python3"
  },
  "language_info": {
   "codemirror_mode": {
    "name": "ipython",
    "version": 3
   },
   "file_extension": ".py",
   "mimetype": "text/x-python",
   "name": "python",
   "nbconvert_exporter": "python",
   "pygments_lexer": "ipython3",
   "version": "3.7.4"
  }
 },
 "nbformat": 4,
 "nbformat_minor": 2
}
