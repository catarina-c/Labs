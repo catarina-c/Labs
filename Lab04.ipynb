{
 "cells": [
  {
   "cell_type": "code",
   "execution_count": 9,
   "metadata": {},
   "outputs": [
    {
     "name": "stdout",
     "output_type": "stream",
     "text": [
      "[1000, 1100.0, 1210.0000000000002, 1331.0000000000005, 1464.1000000000004, 1610.5100000000004]\n"
     ]
    }
   ],
   "source": [
    "#1. Create a list of volume of sales considering the following assumptions: \n",
    "inicialValueSales =1000\n",
    "growthRate = 0.1\n",
    "years = 6\n",
    "\n",
    "volumeSalesList=[]\n",
    "\n",
    "year0 = inicialValueSales\n",
    "year1 = (year0 * (1 + growthRate))\n",
    "year2 = (year0 * ((1 + growthRate) ** 2))\n",
    "year3 = (year0 * ((1 + growthRate) ** 3))\n",
    "year4 = (year0 * ((1 + growthRate) ** 4))\n",
    "year5 = (year0 * ((1 + growthRate) ** 5))\n",
    "\n",
    "\n",
    "volumeSalesList.append(year0)\n",
    "volumeSalesList.append(year1)\n",
    "volumeSalesList.append(year2)\n",
    "volumeSalesList.append(year3)\n",
    "volumeSalesList.append(year4)\n",
    "volumeSalesList.append(year5)\n",
    "print(volumeSalesList)\n",
    "\n",
    "#Porque é que o extend não funciona aqui?? volumeSalesList.extend=([year0, year1]) ; print(volumeSalesList)"
   ]
  },
  {
   "cell_type": "code",
   "execution_count": 12,
   "metadata": {},
   "outputs": [
    {
     "name": "stdout",
     "output_type": "stream",
     "text": [
      "[1000.0, 1100.0, 1210.0000000000002, 1331.0000000000005, 1464.1000000000004, 1610.5100000000004]\n"
     ]
    }
   ],
   "source": [
    "#Alternativamente\n",
    "initialValueSales = 1000\n",
    "rate = 0.10\n",
    "years = 6\n",
    "\n",
    "volumeSalesList = []\n",
    "\n",
    "for i in range(years):\n",
    "    sales = initialValueSales * ((1 + rate) ** i)\n",
    "    volumeSalesList.append(sales)\n",
    "print(volumeSalesList)"
   ]
  },
  {
   "cell_type": "code",
   "execution_count": 15,
   "metadata": {},
   "outputs": [
    {
     "name": "stdout",
     "output_type": "stream",
     "text": [
      "[300.00000000000006, 330.00000000000006, 363.0000000000001, 399.3000000000002, 439.2300000000002, 483.1530000000002]\n"
     ]
    }
   ],
   "source": [
    "#2. Based on the previews list, create a list with costs knowing the profit margin:\n",
    "#cost=sales(1-margin)\n",
    "initialValueSales = 1000\n",
    "rate = 0.10\n",
    "years = 6\n",
    "margin =0.7\n",
    "costsList=[]\n",
    "\n",
    "for i in range(years):\n",
    "    sales=initialValueSales * ((1 + rate) ** i)\n",
    "    costs=sales*(1- margin)\n",
    "    costsList.append(costs)\n",
    "print(costsList)\n"
   ]
  },
  {
   "cell_type": "code",
   "execution_count": 17,
   "metadata": {},
   "outputs": [
    {
     "name": "stdout",
     "output_type": "stream",
     "text": [
      "[700.0, 770.0, 847.0000000000001, 931.7000000000003, 1024.8700000000001, 1127.3570000000002]\n"
     ]
    }
   ],
   "source": [
    "#3. Create a list with the profit based on the last 2 exercises \n",
    "#profit = sales - costs\n",
    "\n",
    "initialValueSales = 1000\n",
    "rate = 0.10\n",
    "years = 6\n",
    "margin =0.7\n",
    "profitList=[]\n",
    "\n",
    "for i in range(years):\n",
    "    sales=initialValueSales * ((1 + rate) ** i)\n",
    "    costs=sales*(1- margin)\n",
    "    profit=sales-costs\n",
    "    profitList.append(profit)\n",
    "print(profitList)\n"
   ]
  },
  {
   "cell_type": "code",
   "execution_count": 18,
   "metadata": {},
   "outputs": [
    {
     "name": "stdout",
     "output_type": "stream",
     "text": [
      "[200.0, 270.0, 347.0000000000001, 431.7000000000003, 524.8700000000001, 627.3570000000002]\n"
     ]
    }
   ],
   "source": [
    "#4.Calculete a newProfit suposing 500 of fixed costs.\n",
    "initialValueSales = 1000\n",
    "rate = 0.10\n",
    "years = 6\n",
    "margin =0.7\n",
    "fixedCosts=500\n",
    "newProfitList=[]\n",
    "\n",
    "for i in range(years):\n",
    "    sales=initialValueSales * ((1 + rate) ** i)\n",
    "    costs=sales*(1- margin) + fixedCosts\n",
    "    profit=sales-costs\n",
    "    newProfitList.append(profit)\n",
    "print(newProfitList)"
   ]
  },
  {
   "cell_type": "code",
   "execution_count": 19,
   "metadata": {},
   "outputs": [
    {
     "name": "stdout",
     "output_type": "stream",
     "text": [
      "[354, 1056, 1759, 360, 1648, 1384]\n"
     ]
    }
   ],
   "source": [
    "#5.Create a newSales list with random generated values between 200 and 2000. Corresponding to volume of sales during a certain numberOfYears.\n",
    "#some ints:\n",
    "#Import module, writing import random\n",
    "#use the method random.randint(a, b). This method is used to generate values between a and b ( Return a\n",
    "#random integer N such that a <= N <= b.):\n",
    "\n",
    "import random\n",
    "newSalesList = []\n",
    "\n",
    "for i in range(6):\n",
    "    newSalesList.append(random.randint(200, 2000))\n",
    "print(newSalesList)"
   ]
  },
  {
   "cell_type": "code",
   "execution_count": 20,
   "metadata": {},
   "outputs": [
    {
     "name": "stdout",
     "output_type": "stream",
     "text": [
      "[-252.20000000000002, 239.19999999999993, 731.3, -248.00000000000003, 653.5999999999999, 468.79999999999995]\n"
     ]
    }
   ],
   "source": [
    "#6.  Create a new list with profits (newProfit). With margin 70% with fixed costs stated previously\n",
    "initialValueSales = 1000\n",
    "rate = 0.10\n",
    "years = 6\n",
    "margin = 0.70\n",
    "fixedCost = 500\n",
    "\n",
    "newProfitsList = []\n",
    "\n",
    "for i in range(6):\n",
    "    newProfitsList.append((newSalesList[i] * margin) - fixedCost)\n",
    "    \n",
    "print(newProfitsList)\n"
   ]
  },
  {
   "cell_type": "code",
   "execution_count": 21,
   "metadata": {},
   "outputs": [
    {
     "name": "stdout",
     "output_type": "stream",
     "text": [
      "66.66666666666666\n"
     ]
    }
   ],
   "source": [
    "#7.What is the percentage of years having profits in the total?\n",
    "percentageYearsProfit=[]\n",
    "for i in newProfitsList:\n",
    "    if i > 0 :\n",
    "        percentageYearsProfit.append(i)\n",
    "\n",
    "percentage=(len(percentageYearsProfit)/6)*100\n",
    "print(percentage)"
   ]
  },
  {
   "cell_type": "code",
   "execution_count": 25,
   "metadata": {},
   "outputs": [
    {
     "data": {
      "image/png": "[encoded data removed]",
      "text/plain": [
       "<Figure size 432x288 with 1 Axes>"
      ]
     },
     "metadata": {
      "needs_background": "light"
     },
     "output_type": "display_data"
    }
   ],
   "source": [
    "#8.Plot the sales and the newSales (generated randomly) throughout the years.\n",
    "import matplotlib.pyplot as plt\n",
    "plt.plot(volumeSalesList)\n",
    "plt.plot(newSalesList)\n",
    "plt.ylabel('sales')\n",
    "plt.xlabel('years')\n",
    "plt.show()"
   ]
  },
  {
   "cell_type": "code",
   "execution_count": null,
   "metadata": {},
   "outputs": [],
   "source": []
  }
 ],
 "metadata": {
  "kernelspec": {
   "display_name": "Python 3",
   "language": "python",
   "name": "python3"
  },
  "language_info": {
   "codemirror_mode": {
    "name": "ipython",
    "version": 3
   },
   "file_extension": ".py",
   "mimetype": "text/x-python",
   "name": "python",
   "nbconvert_exporter": "python",
   "pygments_lexer": "ipython3",
   "version": "3.7.3"
  }
 },
 "nbformat": 4,
 "nbformat_minor": 2
}
